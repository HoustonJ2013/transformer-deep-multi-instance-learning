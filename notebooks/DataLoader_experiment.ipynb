{
 "cells": [
  {
   "cell_type": "code",
   "execution_count": 10,
   "id": "ea11a6f1-3f2d-4a9e-9da5-03d24b771968",
   "metadata": {},
   "outputs": [],
   "source": [
    "import torch.utils.data as data_utils\n",
    "from torchvision import datasets, transforms\n",
    "import torch\n",
    "from transformers import AutoImageProcessor, AutoModel\n",
    "from PIL import Image\n",
    "import requests\n",
    "from tqdm import tqdm\n",
    "import numpy as np\n",
    "import torch \n",
    "import os\n",
    "from tqdm import tqdm\n",
    "import pandas as pd\n",
    "from time import time \n",
    "from tdmil.dataloader import MnstBagsGenerator\n",
    "import warnings\n",
    "warnings.filterwarnings('ignore')"
   ]
  },
  {
   "cell_type": "code",
   "execution_count": 2,
   "id": "5d3317d9-f95d-4c65-8802-5488a728a6d3",
   "metadata": {},
   "outputs": [],
   "source": [
    "train_loader = MnstBagsGenerator(\n",
    "            embedding_tensor_path=\"../datasets/mnst_train_dinov2_small.pt\",\n",
    "            label_tensor_path=\"../datasets/mnst_train_labels.pt\",\n",
    "            batch_size=128,\n",
    "            target_number=9,\n",
    "            bag_length_dist=\"poisson\",\n",
    "            max_bag_length=15,\n",
    "            mean_bag_length=8,\n",
    "            var_bag_length=5,\n",
    "            num_bag=200,\n",
    "            target_multiples=1,\n",
    "        )"
   ]
  },
  {
   "cell_type": "code",
   "execution_count": 3,
   "id": "7a45d408-42fd-4459-abcd-fbaef9359a34",
   "metadata": {},
   "outputs": [
    {
     "data": {
      "text/plain": [
       "(tensor(14066), tensor(11534))"
      ]
     },
     "execution_count": 3,
     "metadata": {},
     "output_type": "execute_result"
    }
   ],
   "source": [
    "positive = 0\n",
    "negative = 0\n",
    "for inp_, label_, mask_ in train_loader.dataloader():\n",
    "    positive += torch.sum(label_ == 1)\n",
    "    negative += torch.sum(label_ == 0)\n",
    "positive, negative"
   ]
  },
  {
   "cell_type": "code",
   "execution_count": 4,
   "id": "8c0d4de1",
   "metadata": {},
   "outputs": [],
   "source": [
    "train_loader2 = MnstBagsGenerator(\n",
    "            embedding_tensor_path=\"../datasets/mnst_train_dinov2_small.pt\",\n",
    "            label_tensor_path=\"../datasets/mnst_train_labels.pt\",\n",
    "            batch_size=128,\n",
    "            target_number=9,\n",
    "            bag_length_dist=\"poisson\",\n",
    "            max_bag_length=30,\n",
    "            mean_bag_length=20,\n",
    "            var_bag_length=5,\n",
    "            num_bag=200,\n",
    "            target_multiples=2,\n",
    "        )"
   ]
  },
  {
   "cell_type": "code",
   "execution_count": 5,
   "id": "ca1547c1",
   "metadata": {},
   "outputs": [
    {
     "data": {
      "text/plain": [
       "(tensor(15139), tensor(10461))"
      ]
     },
     "execution_count": 5,
     "metadata": {},
     "output_type": "execute_result"
    }
   ],
   "source": [
    "positive = 0\n",
    "negative = 0\n",
    "for inp_, label_, mask_ in train_loader2.dataloader():\n",
    "    positive += torch.sum(label_ == 1)\n",
    "    negative += torch.sum(label_ == 0)\n",
    "positive, negative"
   ]
  },
  {
   "cell_type": "code",
   "execution_count": 8,
   "id": "bbac78e6-296e-4600-afd5-9c50d4eaa5c6",
   "metadata": {},
   "outputs": [],
   "source": [
    "train_loader3 = MnstBagsGenerator(\n",
    "            embedding_tensor_path=\"../datasets/mnst_train_dinov2_small.pt\",\n",
    "            label_tensor_path=\"../datasets/mnst_train_labels.pt\",\n",
    "            batch_size=128,\n",
    "            target_number=17,\n",
    "            bag_length_dist=\"poisson\",\n",
    "            max_bag_length=20,\n",
    "            mean_bag_length=12,\n",
    "            var_bag_length=5,\n",
    "            target_strategy=\"two_sum\",\n",
    "            num_bag=200,\n",
    "            target_multiples=2,\n",
    "        )"
   ]
  },
  {
   "cell_type": "code",
   "execution_count": 9,
   "id": "f18b647e-b124-48b0-9588-18b4215e2ff7",
   "metadata": {},
   "outputs": [
    {
     "data": {
      "text/plain": [
       "(tensor(12336), tensor(13264))"
      ]
     },
     "execution_count": 9,
     "metadata": {},
     "output_type": "execute_result"
    }
   ],
   "source": [
    "positive = 0\n",
    "negative = 0\n",
    "for inp_, label_, mask_ in train_loader3.dataloader():\n",
    "    positive += torch.sum(label_ == 1)\n",
    "    negative += torch.sum(label_ == 0)\n",
    "positive, negative"
   ]
  },
  {
   "cell_type": "code",
   "execution_count": null,
   "id": "20bf0aa1-bf42-4e20-893d-5450135cda63",
   "metadata": {},
   "outputs": [],
   "source": []
  },
  {
   "cell_type": "code",
   "execution_count": null,
   "id": "60af92a5-e5bb-4ebb-a6db-4687d8dddc5d",
   "metadata": {},
   "outputs": [],
   "source": []
  }
 ],
 "metadata": {
  "kernelspec": {
   "display_name": "Python 3 (ipykernel)",
   "language": "python",
   "name": "python3"
  },
  "language_info": {
   "codemirror_mode": {
    "name": "ipython",
    "version": 3
   },
   "file_extension": ".py",
   "mimetype": "text/x-python",
   "name": "python",
   "nbconvert_exporter": "python",
   "pygments_lexer": "ipython3",
   "version": "3.10.9"
  }
 },
 "nbformat": 4,
 "nbformat_minor": 5
}
