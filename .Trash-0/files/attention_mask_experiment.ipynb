{
 "cells": [
  {
   "cell_type": "code",
   "execution_count": 1,
   "id": "d112b62d-31ef-4ca5-b109-6ab9cb80e52d",
   "metadata": {},
   "outputs": [],
   "source": [
    "import torch \n",
    "import numpy as np \n",
    "batch_size = 64\n",
    "max_bag_length = 40\n",
    "mean_bag_length = 20"
   ]
  },
  {
   "cell_type": "code",
   "execution_count": 2,
   "id": "b6d603ad-f214-4f72-b496-889c10f69be5",
   "metadata": {},
   "outputs": [],
   "source": [
    "random_bag_lengths = np.clip(\n",
    "                    np.random.poisson(mean_bag_length, size=(batch_size)).astype(int),\n",
    "                    1,\n",
    "                    max_bag_length,\n",
    "                )"
   ]
  },
  {
   "cell_type": "code",
   "execution_count": 3,
   "id": "28d0a833-eb49-46e4-9f21-47c9fc18f164",
   "metadata": {},
   "outputs": [],
   "source": [
    "attention_mask = torch.zeros((batch_size, max_bag_length), dtype=(torch.float32))\n",
    "for i, l_ in enumerate(random_bag_lengths):\n",
    "    attention_mask[i, :l_] = 1"
   ]
  },
  {
   "cell_type": "code",
   "execution_count": 22,
   "id": "bbd4dde5-ba78-4aac-a0de-c8ddc85e4ff2",
   "metadata": {},
   "outputs": [
    {
     "data": {
      "text/plain": [
       "tensor([[1., 1., 1., 1., 1., 1., 1., 1., 1., 1., 1., 1., 1., 1., 1., 1., 1., 1.,\n",
       "         1., 0., 0., 0., 0., 0., 0., 0., 0., 0., 0., 0., 0., 0., 0., 0., 0., 0.,\n",
       "         0., 0., 0., 0.],\n",
       "        [1., 1., 1., 1., 1., 1., 1., 1., 1., 1., 1., 1., 1., 1., 1., 1., 1., 1.,\n",
       "         1., 1., 1., 1., 0., 0., 0., 0., 0., 0., 0., 0., 0., 0., 0., 0., 0., 0.,\n",
       "         0., 0., 0., 0.]])"
      ]
     },
     "execution_count": 22,
     "metadata": {},
     "output_type": "execute_result"
    }
   ],
   "source": [
    "attention_mask[:2,:]"
   ]
  },
  {
   "cell_type": "code",
   "execution_count": 4,
   "id": "26140b4e-85d3-43ef-870a-5d1215b00c9f",
   "metadata": {},
   "outputs": [],
   "source": [
    "input_tensor = torch.randn(\n",
    "                (batch_size, max_bag_length, 384),\n",
    "                dtype=(torch.float32),\n",
    "            )"
   ]
  },
  {
   "cell_type": "code",
   "execution_count": 5,
   "id": "eab680c3-d3ff-485b-b5d6-f8879fa30cbe",
   "metadata": {},
   "outputs": [
    {
     "data": {
      "text/plain": [
       "(torch.Size([64, 40]), torch.Size([64, 40, 384]))"
      ]
     },
     "execution_count": 5,
     "metadata": {},
     "output_type": "execute_result"
    }
   ],
   "source": [
    "attention_mask.shape, input_tensor.shape"
   ]
  },
  {
   "cell_type": "code",
   "execution_count": 6,
   "id": "f87389eb-c02c-47be-91c0-ac1e3ec2c515",
   "metadata": {},
   "outputs": [
    {
     "data": {
      "text/plain": [
       "torch.Size([64, 12, 40, 40])"
      ]
     },
     "execution_count": 6,
     "metadata": {},
     "output_type": "execute_result"
    }
   ],
   "source": [
    "attn = torch.randn(\n",
    "                (batch_size, 12, max_bag_length, max_bag_length),\n",
    "                dtype=(torch.float32),\n",
    "            )\n",
    "attn.shape"
   ]
  },
  {
   "cell_type": "code",
   "execution_count": 28,
   "id": "4e6a8c67-0e98-4ed9-b865-43d88acc9810",
   "metadata": {},
   "outputs": [
    {
     "data": {
      "text/plain": [
       "torch.Size([64, 12, 40, 40])"
      ]
     },
     "execution_count": 28,
     "metadata": {},
     "output_type": "execute_result"
    }
   ],
   "source": [
    "attn2 = attn + (-100000) * ( 1- attention_mask.reshape(batch_size, 1, 1, max_bag_length))\n",
    "attn2 = attn2.softmax(dim=-1)\n",
    "attn2.shape"
   ]
  },
  {
   "cell_type": "code",
   "execution_count": 30,
   "id": "d2f06169-c4e7-49c6-8a01-39ee5e246b6d",
   "metadata": {},
   "outputs": [
    {
     "data": {
      "text/plain": [
       "tensor([0.0640, 0.0093, 0.0076, 0.0327, 0.0372, 0.0083, 0.0188, 0.0500, 0.3389,\n",
       "        0.0064, 0.0242, 0.0529, 0.1783, 0.0153, 0.0697, 0.0093, 0.0302, 0.0159,\n",
       "        0.0310, 0.0000, 0.0000, 0.0000, 0.0000, 0.0000, 0.0000, 0.0000, 0.0000,\n",
       "        0.0000, 0.0000, 0.0000, 0.0000, 0.0000, 0.0000, 0.0000, 0.0000, 0.0000,\n",
       "        0.0000, 0.0000, 0.0000, 0.0000])"
      ]
     },
     "execution_count": 30,
     "metadata": {},
     "output_type": "execute_result"
    }
   ],
   "source": [
    "attn2[0, 0, 2] "
   ]
  },
  {
   "cell_type": "code",
   "execution_count": 26,
   "id": "619f53a3-9fd1-418a-8171-9ca56f9581f1",
   "metadata": {},
   "outputs": [
    {
     "data": {
      "text/plain": [
       "tensor(22)"
      ]
     },
     "execution_count": 26,
     "metadata": {},
     "output_type": "execute_result"
    }
   ],
   "source": [
    "torch.sum(attention_mask[1] > 1e-4)"
   ]
  },
  {
   "cell_type": "code",
   "execution_count": 38,
   "id": "9c1ca0f8-aaef-4068-9973-c41227be0e62",
   "metadata": {},
   "outputs": [
    {
     "data": {
      "text/plain": [
       "tensor(22)"
      ]
     },
     "execution_count": 38,
     "metadata": {},
     "output_type": "execute_result"
    }
   ],
   "source": [
    "torch.sum(attn2[1, 0, 0] > 1e-4)"
   ]
  },
  {
   "cell_type": "code",
   "execution_count": 41,
   "id": "fe389f80-c906-40c1-8f84-ede3089e690f",
   "metadata": {},
   "outputs": [
    {
     "data": {
      "text/plain": [
       "tensor([[0.0789, 0.1281, 0.0467,  ..., 0.0000, 0.0000, 0.0000],\n",
       "        [0.0141, 0.4352, 0.0104,  ..., 0.0000, 0.0000, 0.0000],\n",
       "        [0.0640, 0.0093, 0.0076,  ..., 0.0000, 0.0000, 0.0000],\n",
       "        ...,\n",
       "        [0.0658, 0.0385, 0.0551,  ..., 0.0000, 0.0000, 0.0000],\n",
       "        [0.0116, 0.0050, 0.0490,  ..., 0.0000, 0.0000, 0.0000],\n",
       "        [0.0748, 0.0337, 0.0078,  ..., 0.0000, 0.0000, 0.0000]])"
      ]
     },
     "execution_count": 41,
     "metadata": {},
     "output_type": "execute_result"
    }
   ],
   "source": [
    "attn2[0, 0]"
   ]
  },
  {
   "cell_type": "code",
   "execution_count": null,
   "id": "4f9271c5-66fb-4524-99c3-14e78a603871",
   "metadata": {},
   "outputs": [],
   "source": []
  },
  {
   "cell_type": "code",
   "execution_count": null,
   "id": "5ae0bbbf-5d55-464d-8970-491c97366df7",
   "metadata": {},
   "outputs": [],
   "source": []
  },
  {
   "cell_type": "code",
   "execution_count": null,
   "id": "2f164cd8-07c5-4ddb-ae61-95f102268fd8",
   "metadata": {},
   "outputs": [],
   "source": []
  },
  {
   "cell_type": "code",
   "execution_count": 27,
   "id": "e527b183-bd31-4f4e-aece-215e82efdcaf",
   "metadata": {},
   "outputs": [],
   "source": [
    "seqlen = 10"
   ]
  },
  {
   "cell_type": "code",
   "execution_count": 12,
   "id": "51c1e5f9-f590-46f8-8e32-7cba2d68fde4",
   "metadata": {},
   "outputs": [],
   "source": [
    "mask = torch.full(\n",
    "                (seqlen, seqlen), float(\"-inf\"), \n",
    "            )"
   ]
  },
  {
   "cell_type": "code",
   "execution_count": 14,
   "id": "7574ed0a-4568-4220-a6cb-359fddeb391c",
   "metadata": {},
   "outputs": [
    {
     "data": {
      "text/plain": [
       "tensor([[-inf, -inf, -inf, -inf, -inf, -inf, -inf, -inf, -inf, -inf],\n",
       "        [-inf, -inf, -inf, -inf, -inf, -inf, -inf, -inf, -inf, -inf],\n",
       "        [-inf, -inf, -inf, -inf, -inf, -inf, -inf, -inf, -inf, -inf],\n",
       "        [-inf, -inf, -inf, -inf, -inf, -inf, -inf, -inf, -inf, -inf],\n",
       "        [-inf, -inf, -inf, -inf, -inf, -inf, -inf, -inf, -inf, -inf],\n",
       "        [-inf, -inf, -inf, -inf, -inf, -inf, -inf, -inf, -inf, -inf],\n",
       "        [-inf, -inf, -inf, -inf, -inf, -inf, -inf, -inf, -inf, -inf],\n",
       "        [-inf, -inf, -inf, -inf, -inf, -inf, -inf, -inf, -inf, -inf],\n",
       "        [-inf, -inf, -inf, -inf, -inf, -inf, -inf, -inf, -inf, -inf],\n",
       "        [-inf, -inf, -inf, -inf, -inf, -inf, -inf, -inf, -inf, -inf]])"
      ]
     },
     "execution_count": 14,
     "metadata": {},
     "output_type": "execute_result"
    }
   ],
   "source": [
    "mask"
   ]
  },
  {
   "cell_type": "code",
   "execution_count": 15,
   "id": "d12521ab-00f1-4702-959a-cd9b01142b87",
   "metadata": {},
   "outputs": [],
   "source": [
    "mask = torch.triu(mask, diagonal=1)"
   ]
  },
  {
   "cell_type": "code",
   "execution_count": 16,
   "id": "eff05cc4-21ee-4466-b8fe-4fd7a8488eed",
   "metadata": {},
   "outputs": [
    {
     "data": {
      "text/plain": [
       "tensor([[0., -inf, -inf, -inf, -inf, -inf, -inf, -inf, -inf, -inf],\n",
       "        [0., 0., -inf, -inf, -inf, -inf, -inf, -inf, -inf, -inf],\n",
       "        [0., 0., 0., -inf, -inf, -inf, -inf, -inf, -inf, -inf],\n",
       "        [0., 0., 0., 0., -inf, -inf, -inf, -inf, -inf, -inf],\n",
       "        [0., 0., 0., 0., 0., -inf, -inf, -inf, -inf, -inf],\n",
       "        [0., 0., 0., 0., 0., 0., -inf, -inf, -inf, -inf],\n",
       "        [0., 0., 0., 0., 0., 0., 0., -inf, -inf, -inf],\n",
       "        [0., 0., 0., 0., 0., 0., 0., 0., -inf, -inf],\n",
       "        [0., 0., 0., 0., 0., 0., 0., 0., 0., -inf],\n",
       "        [0., 0., 0., 0., 0., 0., 0., 0., 0., 0.]])"
      ]
     },
     "execution_count": 16,
     "metadata": {},
     "output_type": "execute_result"
    }
   ],
   "source": [
    "mask"
   ]
  },
  {
   "cell_type": "code",
   "execution_count": 17,
   "id": "ecb8e6c8-7f15-494f-8e5c-7858498f4d16",
   "metadata": {},
   "outputs": [],
   "source": [
    "mask = torch.hstack([\n",
    "                torch.zeros((seqlen, 5),),\n",
    "                mask\n",
    "            ])"
   ]
  },
  {
   "cell_type": "code",
   "execution_count": 21,
   "id": "e2d54f8a-d0c5-4a11-9cbb-f9e55ec2ec57",
   "metadata": {},
   "outputs": [
    {
     "data": {
      "text/plain": [
       "tensor([[0., 0., 0., 0., 0., 0., -inf, -inf, -inf, -inf, -inf, -inf, -inf, -inf, -inf],\n",
       "        [0., 0., 0., 0., 0., 0., 0., -inf, -inf, -inf, -inf, -inf, -inf, -inf, -inf],\n",
       "        [0., 0., 0., 0., 0., 0., 0., 0., -inf, -inf, -inf, -inf, -inf, -inf, -inf],\n",
       "        [0., 0., 0., 0., 0., 0., 0., 0., 0., -inf, -inf, -inf, -inf, -inf, -inf],\n",
       "        [0., 0., 0., 0., 0., 0., 0., 0., 0., 0., -inf, -inf, -inf, -inf, -inf],\n",
       "        [0., 0., 0., 0., 0., 0., 0., 0., 0., 0., 0., -inf, -inf, -inf, -inf],\n",
       "        [0., 0., 0., 0., 0., 0., 0., 0., 0., 0., 0., 0., -inf, -inf, -inf],\n",
       "        [0., 0., 0., 0., 0., 0., 0., 0., 0., 0., 0., 0., 0., -inf, -inf],\n",
       "        [0., 0., 0., 0., 0., 0., 0., 0., 0., 0., 0., 0., 0., 0., -inf],\n",
       "        [0., 0., 0., 0., 0., 0., 0., 0., 0., 0., 0., 0., 0., 0., 0.]])"
      ]
     },
     "execution_count": 21,
     "metadata": {},
     "output_type": "execute_result"
    }
   ],
   "source": [
    "mask"
   ]
  },
  {
   "cell_type": "code",
   "execution_count": null,
   "id": "d82347fc-35c0-4833-b3d9-40cd3c56d495",
   "metadata": {},
   "outputs": [],
   "source": []
  }
 ],
 "metadata": {
  "kernelspec": {
   "display_name": "Python 3 (ipykernel)",
   "language": "python",
   "name": "python3"
  },
  "language_info": {
   "codemirror_mode": {
    "name": "ipython",
    "version": 3
   },
   "file_extension": ".py",
   "mimetype": "text/x-python",
   "name": "python",
   "nbconvert_exporter": "python",
   "pygments_lexer": "ipython3",
   "version": "3.10.9"
  }
 },
 "nbformat": 4,
 "nbformat_minor": 5
}
